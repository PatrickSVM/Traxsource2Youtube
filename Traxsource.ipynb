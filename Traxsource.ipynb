{
 "cells": [
  {
   "cell_type": "markdown",
   "metadata": {},
   "source": [
    "## How to?\n",
    "1. Create the credential for youtube v3 in your project\n",
    "2. download the credentials \n",
    "3. Add test user \n",
    "4. Run code snippets and authenticate in browser"
   ]
  },
  {
   "cell_type": "code",
   "execution_count": 26,
   "metadata": {},
   "outputs": [],
   "source": [
    "import requests\n",
    "from bs4 import BeautifulSoup\n",
    "\n",
    "URL = \"https://www.traxsource.com/genre/4/house\"\n",
    "#URL = \"https://www.traxsource.com/top/tracks\"\n",
    "page = requests.get(URL)\n",
    "\n",
    "soup = BeautifulSoup(page.content, \"html.parser\")"
   ]
  },
  {
   "cell_type": "code",
   "execution_count": 45,
   "metadata": {},
   "outputs": [],
   "source": [
    "page = requests.get(\"https://www.traxsource.com/genre/4/house/top\")\n",
    "soup = BeautifulSoup(page.content, \"html.parser\")\n",
    "\n",
    "top100 = soup.find_all(\"div\", {\"class\": \"trk-row\"})"
   ]
  },
  {
   "cell_type": "code",
   "execution_count": 77,
   "metadata": {},
   "outputs": [
    {
     "data": {
      "text/plain": [
       "'2'"
      ]
     },
     "execution_count": 77,
     "metadata": {},
     "output_type": "execute_result"
    }
   ],
   "source": [
    "title = top100[2].find(\"div\", {\"class\": \"tnum-pos\"}).text.replace(\"\\n\", \"\")\n",
    "title\n"
   ]
  },
  {
   "cell_type": "code",
   "execution_count": 82,
   "metadata": {},
   "outputs": [],
   "source": [
    "def get_top_10(URL):\n",
    "    page = requests.get(URL)\n",
    "    soup = BeautifulSoup(page.content, \"html.parser\")\n",
    "\n",
    "    top10 = soup.find_all(\"div\", {\"class\": \"top-item\"})\n",
    "\n",
    "    top10_title = []\n",
    "    top10_artist = []\n",
    "\n",
    "    for track in top10:\n",
    "\n",
    "        track_node = track\n",
    "\n",
    "        # Get position of the track\n",
    "        position = track_node.findAll(\"div\", {\"class\": \"ttib position\"})[0].getText()\n",
    "        position = position.replace('\\n', '').strip()\n",
    "\n",
    "        # Get track infos\n",
    "        info = track_node.findAll(\"div\", {\"class\": \"ttib info\"})[0]\n",
    "        artist = info.find(\"a\", class_='com-artists').text\n",
    "        title = info.find(\"a\", class_='com-title').text\n",
    "\n",
    "        # Add infos\n",
    "        top10_title.append(title)\n",
    "        top10_artist.append(artist)\n",
    "\n",
    "    return top10_title, top10_artist\n",
    "\n",
    "def get_top_100(URL):\n",
    "    page = requests.get(URL)\n",
    "    soup = BeautifulSoup(page.content, \"html.parser\")\n",
    "\n",
    "    top100 = soup.find_all(\"div\", {\"class\": \"trk-row\"})\n",
    "\n",
    "    top100_title = []\n",
    "    top100_artist = []\n",
    "\n",
    "    for track in top100[1:]:\n",
    "\n",
    "        # Get position of the track\n",
    "        pos = track.find(\"div\", {\"class\": \"tnum-pos\"}).text.replace(\"\\n\", \"\").strip()\n",
    "\n",
    "        # Get artist infos\n",
    "        artists = track.find(\"div\", {\"class\": \"artists\"}).findChildren(\"a\")\n",
    "        artists = [art.text for art in artists]\n",
    "        full_artist = \" \".join(artists)\n",
    "\n",
    "        # Get title info\n",
    "        title = track.find(\"div\", {\"class\": \"title\"}).findChildren(\"a\")[0].text\n",
    "\n",
    "        # Add infos\n",
    "        top100_title.append(title)\n",
    "        top100_artist.append(full_artist)\n",
    "\n",
    "    return top100_title, top100_artist"
   ]
  },
  {
   "cell_type": "code",
   "execution_count": 27,
   "metadata": {},
   "outputs": [
    {
     "name": "stdout",
     "output_type": "stream",
     "text": [
      "Position:  1\n",
      "Name:      Do What You Wanna Do (Extended Mix)\n",
      "Artist:    The Shapeshifters\n",
      "Label:     Pleased As Punch\n",
      "\n",
      "Position:  2\n",
      "Name:      I Thought It Was You (Extended Mix)\n",
      "Artist:    David Penn\n",
      "Label:     Central Station Records\n",
      "\n",
      "Position:  3\n",
      "Name:      Can U Feel It (2023 Remaster)\n",
      "Artist:    Jay Vegas\n",
      "Label:     Hot Stuff\n",
      "\n",
      "Position:  4\n",
      "Name:      Don't Pay Me No Mind\n",
      "Artist:    Mike Dunn\n",
      "Label:     Nu Groove Records\n",
      "\n",
      "Position:  5\n",
      "Name:      Runaway Love (Michael Gray Dub)\n",
      "Artist:    Bobby D'Ambrosio\n",
      "Label:     Soulfuric\n",
      "\n",
      "Position:  6\n",
      "Name:      Frequency\n",
      "Artist:    Grant Nelson\n",
      "Label:     Swing City\n",
      "\n",
      "Position:  7\n",
      "Name:      Serious (Wayne Soul Avengerz & Odyssey Inc. Extended Remix)\n",
      "Artist:    Donna Allen\n",
      "Label:     High Fashion Music\n",
      "\n",
      "Position:  8\n",
      "Name:      Living My Life (Golden) (Extended Mix)\n",
      "Artist:    Higgo\n",
      "Label:     Helix Records\n",
      "\n",
      "Position:  9\n",
      "Name:      Do You Feel The Same? (Luke Solomon Tribute Remix)\n",
      "Artist:    Hercules & Love Affair\n",
      "Label:     Defected\n",
      "\n",
      "Position:  10\n",
      "Name:      Brutal (Extended Mix)\n",
      "Artist:    Mark Knight\n",
      "Label:     Toolroom\n",
      "\n"
     ]
    }
   ],
   "source": [
    "top10 = soup.find_all(\"div\", {\"class\": \"top-item\"})\n",
    "\n",
    "for track in top10:\n",
    "\n",
    "    track_node = track\n",
    "\n",
    "    # Get position of the track\n",
    "    position = track_node.findAll(\"div\", {\"class\": \"ttib position\"})[0].getText()\n",
    "    position = position.replace('\\n', '').strip()\n",
    "\n",
    "    # Get track infos\n",
    "    info = track_node.findAll(\"div\", {\"class\": \"ttib info\"})[0]\n",
    "    artist = info.find(\"a\", class_='com-artists').text\n",
    "    title = info.find(\"a\", class_='com-title').text\n",
    "    label = info.find(\"a\", class_='com-label').text\n",
    "\n",
    "    # Print infos\n",
    "    print('Position: ', position)\n",
    "    print('Name:     ', title)\n",
    "    print('Artist:   ', artist)\n",
    "    print('Label:    ', label)\n",
    "    print('')"
   ]
  },
  {
   "cell_type": "code",
   "execution_count": 88,
   "metadata": {},
   "outputs": [],
   "source": [
    "import os\n",
    "import pickle\n",
    "import google_auth_oauthlib.flow\n",
    "import googleapiclient.discovery\n",
    "import googleapiclient.errors\n",
    "\n",
    "# Helper function to authenticate with the YouTube API\n",
    "def get_authenticated_service():\n",
    "    # Define the necessary scopes required for the YouTube Data API v3\n",
    "    scopes = [\"https://www.googleapis.com/auth/youtube\"]\n",
    "\n",
    "    # Load or create credentials file (store it in a file for future use)\n",
    "    credentials_file = \"youtube_credentials.pickle\"\n",
    "\n",
    "    if os.path.exists(credentials_file):\n",
    "        with open(credentials_file, \"rb\") as token:\n",
    "            credentials = pickle.load(token)\n",
    "    else:\n",
    "        flow = google_auth_oauthlib.flow.InstalledAppFlow.from_client_secrets_file(\n",
    "            \"secrets_file.json\", scopes\n",
    "        )\n",
    "        credentials = flow.run_local_server(port=0)\n",
    "\n",
    "        with open(credentials_file, \"wb\") as token:\n",
    "            pickle.dump(credentials, token)\n",
    "\n",
    "    # Create and return the authenticated YouTube Data API service\n",
    "    return googleapiclient.discovery.build(\"youtube\", \"v3\", credentials=credentials)\n",
    "\n",
    "\n",
    "youtube = get_authenticated_service()"
   ]
  },
  {
   "cell_type": "code",
   "execution_count": 89,
   "metadata": {},
   "outputs": [
    {
     "name": "stdout",
     "output_type": "stream",
     "text": [
      "Video Title: VLNT - Minimal House Mix (Let's House Party | SG) #18\n",
      "Video Description: instagram:\n",
      "\n",
      "https://www.instagram.com/ciuca_valentine/\n",
      "\n",
      "Contact: ciucavalentin2000@gmail.com\n",
      "Views: 421\n",
      "Likes: 14\n"
     ]
    }
   ],
   "source": [
    "def get_video_info(video_id):\n",
    "    try:\n",
    "        # Call the videos().list() method to get video information\n",
    "        video_info = youtube.videos().list(\n",
    "            part=\"snippet,statistics\",\n",
    "            id=video_id,\n",
    "        ).execute()\n",
    "\n",
    "\n",
    "        # Extract the relevant information from the response\n",
    "        video_title = video_info['items'][0]['snippet']['title']\n",
    "        video_description = video_info['items'][0]['snippet']['description']\n",
    "        view_count = video_info['items'][0]['statistics']['viewCount']\n",
    "        like_count = video_info['items'][0]['statistics']['likeCount']\n",
    "\n",
    "        # Print or return the information as needed\n",
    "        print(f\"Video Title: {video_title}\")\n",
    "        print(f\"Video Description: {video_description}\")\n",
    "        print(f\"Views: {view_count}\")\n",
    "        print(f\"Likes: {like_count}\")\n",
    "\n",
    "    except Exception as e:\n",
    "        print(f\"Error: {e}\")\n",
    "\n",
    "# Replace 'YOUR_VIDEO_ID' with the ID of the video you want to get information about\n",
    "video_id = \"bHeA_5yKslk\"\n",
    "get_video_info(video_id)"
   ]
  },
  {
   "cell_type": "code",
   "execution_count": 90,
   "metadata": {},
   "outputs": [
    {
     "data": {
      "text/plain": [
       "'opFJuu2zpyU'"
      ]
     },
     "execution_count": 90,
     "metadata": {},
     "output_type": "execute_result"
    }
   ],
   "source": [
    "def get_song_id(name, max_results=1):\n",
    "    try:\n",
    "        # Call the search().list() method to search for videos\n",
    "        search_response = youtube.search().list(\n",
    "            q=name,\n",
    "            part=\"snippet\",\n",
    "            type=\"video\",\n",
    "            maxResults=max_results\n",
    "        ).execute()\n",
    "\n",
    "        # Extract video ID of the first\n",
    "        for search_result in search_response.get(\"items\", []):\n",
    "            video_id = search_result[\"id\"][\"videoId\"]\n",
    "            video_title = search_result[\"snippet\"][\"title\"]\n",
    "            video_description = search_result[\"snippet\"][\"description\"]\n",
    "        \n",
    "        return video_id\n",
    "\n",
    "    except Exception as e:\n",
    "        print(f\"Error: {e}\")\n",
    "\n",
    "search_query = \"Do What You Wanna Do (Extended Mix)\"\n",
    "\n",
    "get_song_id(search_query)\n"
   ]
  },
  {
   "cell_type": "code",
   "execution_count": 91,
   "metadata": {},
   "outputs": [
    {
     "name": "stdout",
     "output_type": "stream",
     "text": [
      "Playlist ID: PL1sgmjVOC2BA96I-pAz0IRw9sVZgbDYHK\n",
      "Playlist Title: Traxsource Top 100 House\n",
      "\n",
      "Playlist ID: PL1sgmjVOC2BDwXHkTBeD1ISjstJIJXAeC\n",
      "Playlist Title: Traxsource Top 10\n",
      "\n"
     ]
    }
   ],
   "source": [
    "def get_playlist_ids():\n",
    "    try:\n",
    "        # Call the playlists().list() method to get playlists associated with the authenticated user\n",
    "        playlist_response = youtube.playlists().list(\n",
    "            part=\"id,snippet\",\n",
    "            mine=True,\n",
    "            maxResults=50  # Set the maximum number of playlists to retrieve (default is 5)\n",
    "        ).execute()\n",
    "\n",
    "        # Extract and display the playlist IDs\n",
    "        for playlist in playlist_response.get(\"items\", []):\n",
    "            playlist_id = playlist[\"id\"]\n",
    "            playlist_title = playlist[\"snippet\"][\"title\"]\n",
    "            print(f\"Playlist ID: {playlist_id}\")\n",
    "            print(f\"Playlist Title: {playlist_title}\")\n",
    "            print()\n",
    "\n",
    "    except Exception as e:\n",
    "        print(f\"Error: {e}\")\n",
    "\n",
    "get_playlist_ids()"
   ]
  },
  {
   "cell_type": "code",
   "execution_count": 84,
   "metadata": {},
   "outputs": [
    {
     "name": "stdout",
     "output_type": "stream",
     "text": [
      "New playlist created with ID: PL1sgmjVOC2BA96I-pAz0IRw9sVZgbDYHK\n"
     ]
    }
   ],
   "source": [
    "def create_playlist(playlist_title, playlist_description):\n",
    "    try:\n",
    "        # Call the playlists().insert() method to create a new playlist\n",
    "        playlist_response = youtube.playlists().insert(\n",
    "            part=\"snippet,status\",\n",
    "            body={\n",
    "                \"snippet\": {\n",
    "                    \"title\": playlist_title,\n",
    "                    \"description\": playlist_description,\n",
    "                },\n",
    "                \"status\": {\n",
    "                    \"privacyStatus\": \"public\",  # Set the privacy status (\"public\", \"private\", or \"unlisted\")\n",
    "                }\n",
    "            }\n",
    "        ).execute()\n",
    "\n",
    "        # Extract and display the playlist ID of the newly created playlist\n",
    "        playlist_id = playlist_response[\"id\"]\n",
    "        print(f\"New playlist created with ID: {playlist_id}\")\n",
    "\n",
    "    except Exception as e:\n",
    "        print(f\"Error: {e}\")\n",
    "\n",
    "create_playlist(playlist_title=\"Traxsource Top 100 House\", playlist_description=\"The current Top 100 Charts on Traxsource for the genre House\")"
   ]
  },
  {
   "cell_type": "code",
   "execution_count": 85,
   "metadata": {},
   "outputs": [],
   "source": [
    "# Function to add a video to a playlist\n",
    "def add_video_to_playlist(playlist_id, video_id):\n",
    "\n",
    "    # Add the video to the playlist\n",
    "    request = youtube.playlistItems().insert(\n",
    "        part=\"snippet\",\n",
    "        body={\n",
    "            \"snippet\": {\n",
    "                \"playlistId\": playlist_id,\n",
    "                \"resourceId\": {\"kind\": \"youtube#video\", \"videoId\": video_id},\n",
    "            }\n",
    "        },\n",
    "    )\n",
    "\n",
    "    response = request.execute()\n",
    "\n",
    "    #print(f\"Video {video_id} added to the playlist {playlist_id}!\")\n",
    "\n"
   ]
  },
  {
   "cell_type": "code",
   "execution_count": 1,
   "metadata": {},
   "outputs": [
    {
     "data": {
      "text/plain": [
       "(['Disco Party Baby (Original Mix)',\n",
       "  'Hypnotized (Original Mix)',\n",
       "  'Shake For Me (Original Mix)',\n",
       "  'High Rise (Original Mix)',\n",
       "  'Pay Attention (SIREN & PREACH Mix)',\n",
       "  'Streets (Dachshund Remix)',\n",
       "  'Red Lights (Extended Mix)',\n",
       "  'Jiggy',\n",
       "  'Messan (Original Mix)',\n",
       "  'Chess (Original Mix)'],\n",
       " ['Vampire Sex',\n",
       "  'Audiojack',\n",
       "  'Paul Mondot',\n",
       "  'Secnd',\n",
       "  'Soul Vision',\n",
       "  'Greta Levska',\n",
       "  'Brock Edwards',\n",
       "  'Blair Suarez',\n",
       "  'Jansons',\n",
       "  'Josh Butler'])"
      ]
     },
     "execution_count": 1,
     "metadata": {},
     "output_type": "execute_result"
    }
   ],
   "source": [
    "from traxsource.traxsource import get_top_10\n",
    "\n",
    "minimal_url = 'https://www.traxsource.com/genre/16/minimal-deep-tech'\n",
    "\n",
    "playlist_id = \"PL1sgmjVOC2BA96I-pAz0IRw9sVZgbDYHK\"\n",
    "\n",
    "top10_title, top10_artist = get_top_10(URL=minimal_url)\n",
    "\n",
    "for title, artist in zip(top10_title, top10_artist):\n",
    "    # Get video id of top result\n",
    "    query = f\"{artist} - {title}\"\n",
    "    video_id = get_song_id(name=query)\n",
    "\n",
    "    # Add to the playlist\n",
    "    add_video_to_playlist(playlist_id, video_id)\n",
    "\n",
    "    print(f\"{title} by {artist} was added.\")\n",
    "\n"
   ]
  },
  {
   "cell_type": "code",
   "execution_count": 87,
   "metadata": {},
   "outputs": [
    {
     "name": "stdout",
     "output_type": "stream",
     "text": [
      "Error: <HttpError 403 when requesting https://youtube.googleapis.com/youtube/v3/search?q=The+Shapeshifters+-+Do+What+You+Wanna+Do&part=snippet&type=video&maxResults=1&alt=json returned \"The request cannot be completed because you have exceeded your <a href=\"/youtube/v3/getting-started#quota\">quota</a>.\". Details: \"[{'message': 'The request cannot be completed because you have exceeded your <a href=\"/youtube/v3/getting-started#quota\">quota</a>.', 'domain': 'youtube.quota', 'reason': 'quotaExceeded'}]\">\n"
     ]
    },
    {
     "ename": "HttpError",
     "evalue": "<HttpError 403 when requesting https://youtube.googleapis.com/youtube/v3/playlistItems?part=snippet&alt=json returned \"The request cannot be completed because you have exceeded your <a href=\"/youtube/v3/getting-started#quota\">quota</a>.\". Details: \"[{'message': 'The request cannot be completed because you have exceeded your <a href=\"/youtube/v3/getting-started#quota\">quota</a>.', 'domain': 'youtube.quota', 'reason': 'quotaExceeded'}]\">",
     "output_type": "error",
     "traceback": [
      "\u001b[0;31m---------------------------------------------------------------------------\u001b[0m",
      "\u001b[0;31mHttpError\u001b[0m                                 Traceback (most recent call last)",
      "Cell \u001b[0;32mIn[87], line 9\u001b[0m\n\u001b[1;32m      6\u001b[0m query \u001b[39m=\u001b[39m \u001b[39mf\u001b[39m\u001b[39m\"\u001b[39m\u001b[39m{\u001b[39;00martist\u001b[39m}\u001b[39;00m\u001b[39m - \u001b[39m\u001b[39m{\u001b[39;00mtitle\u001b[39m}\u001b[39;00m\u001b[39m\"\u001b[39m\n\u001b[1;32m      7\u001b[0m video_id \u001b[39m=\u001b[39m get_song_id(name\u001b[39m=\u001b[39mquery)\n\u001b[0;32m----> 9\u001b[0m add_video_to_playlist(playlist_id, video_id)\n",
      "Cell \u001b[0;32mIn[85], line 15\u001b[0m, in \u001b[0;36madd_video_to_playlist\u001b[0;34m(playlist_id, video_id)\u001b[0m\n\u001b[1;32m      2\u001b[0m \u001b[39mdef\u001b[39;00m \u001b[39madd_video_to_playlist\u001b[39m(playlist_id, video_id):\n\u001b[1;32m      3\u001b[0m \n\u001b[1;32m      4\u001b[0m     \u001b[39m# Add the video to the playlist\u001b[39;00m\n\u001b[1;32m      5\u001b[0m     request \u001b[39m=\u001b[39m youtube\u001b[39m.\u001b[39mplaylistItems()\u001b[39m.\u001b[39minsert(\n\u001b[1;32m      6\u001b[0m         part\u001b[39m=\u001b[39m\u001b[39m\"\u001b[39m\u001b[39msnippet\u001b[39m\u001b[39m\"\u001b[39m,\n\u001b[1;32m      7\u001b[0m         body\u001b[39m=\u001b[39m{\n\u001b[0;32m   (...)\u001b[0m\n\u001b[1;32m     12\u001b[0m         },\n\u001b[1;32m     13\u001b[0m     )\n\u001b[0;32m---> 15\u001b[0m     response \u001b[39m=\u001b[39m request\u001b[39m.\u001b[39;49mexecute()\n",
      "File \u001b[0;32m~/miniconda3/envs/Traxsource/lib/python3.8/site-packages/googleapiclient/_helpers.py:130\u001b[0m, in \u001b[0;36mpositional.<locals>.positional_decorator.<locals>.positional_wrapper\u001b[0;34m(*args, **kwargs)\u001b[0m\n\u001b[1;32m    128\u001b[0m     \u001b[39melif\u001b[39;00m positional_parameters_enforcement \u001b[39m==\u001b[39m POSITIONAL_WARNING:\n\u001b[1;32m    129\u001b[0m         logger\u001b[39m.\u001b[39mwarning(message)\n\u001b[0;32m--> 130\u001b[0m \u001b[39mreturn\u001b[39;00m wrapped(\u001b[39m*\u001b[39;49margs, \u001b[39m*\u001b[39;49m\u001b[39m*\u001b[39;49mkwargs)\n",
      "File \u001b[0;32m~/miniconda3/envs/Traxsource/lib/python3.8/site-packages/googleapiclient/http.py:938\u001b[0m, in \u001b[0;36mHttpRequest.execute\u001b[0;34m(self, http, num_retries)\u001b[0m\n\u001b[1;32m    936\u001b[0m     callback(resp)\n\u001b[1;32m    937\u001b[0m \u001b[39mif\u001b[39;00m resp\u001b[39m.\u001b[39mstatus \u001b[39m>\u001b[39m\u001b[39m=\u001b[39m \u001b[39m300\u001b[39m:\n\u001b[0;32m--> 938\u001b[0m     \u001b[39mraise\u001b[39;00m HttpError(resp, content, uri\u001b[39m=\u001b[39m\u001b[39mself\u001b[39m\u001b[39m.\u001b[39muri)\n\u001b[1;32m    939\u001b[0m \u001b[39mreturn\u001b[39;00m \u001b[39mself\u001b[39m\u001b[39m.\u001b[39mpostproc(resp, content)\n",
      "\u001b[0;31mHttpError\u001b[0m: <HttpError 403 when requesting https://youtube.googleapis.com/youtube/v3/playlistItems?part=snippet&alt=json returned \"The request cannot be completed because you have exceeded your <a href=\"/youtube/v3/getting-started#quota\">quota</a>.\". Details: \"[{'message': 'The request cannot be completed because you have exceeded your <a href=\"/youtube/v3/getting-started#quota\">quota</a>.', 'domain': 'youtube.quota', 'reason': 'quotaExceeded'}]\">"
     ]
    }
   ],
   "source": [
    "playlist_id = \"PL1sgmjVOC2BA96I-pAz0IRw9sVZgbDYHK\"\n",
    "\n",
    "top100_title, top100_artist = get_top_100(URL=\"https://www.traxsource.com/genre/4/house/top\")\n",
    "\n",
    "for title, artist in zip(top100_title, top100_artist):\n",
    "    query = f\"{artist} - {title}\"\n",
    "    video_id = get_song_id(name=query)\n",
    "\n",
    "    add_video_to_playlist(playlist_id, video_id)"
   ]
  },
  {
   "cell_type": "code",
   "execution_count": null,
   "metadata": {},
   "outputs": [],
   "source": []
  }
 ],
 "metadata": {
  "kernelspec": {
   "display_name": "Traxsource",
   "language": "python",
   "name": "python3"
  },
  "language_info": {
   "codemirror_mode": {
    "name": "ipython",
    "version": 3
   },
   "file_extension": ".py",
   "mimetype": "text/x-python",
   "name": "python",
   "nbconvert_exporter": "python",
   "pygments_lexer": "ipython3",
   "version": "3.8.17"
  },
  "orig_nbformat": 4
 },
 "nbformat": 4,
 "nbformat_minor": 2
}
