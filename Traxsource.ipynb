{
 "cells": [
  {
   "cell_type": "markdown",
   "metadata": {},
   "source": [
    "## Traxsource Scraping\n",
    "1. Create the credential for youtube v3 in your project\n",
    "2. download the credentials \n",
    "3. Add test user \n",
    "4. Run code snippets and authenticate in browser"
   ]
  },
  {
   "cell_type": "code",
   "execution_count": 2,
   "metadata": {},
   "outputs": [],
   "source": [
    "import requests\n",
    "from bs4 import BeautifulSoup\n",
    "\n",
    "URL = \"https://www.traxsource.com/genre/4/house\"\n",
    "\n",
    "page = requests.get(URL)\n",
    "\n",
    "soup = BeautifulSoup(page.content, \"html.parser\")"
   ]
  },
  {
   "cell_type": "code",
   "execution_count": 3,
   "metadata": {},
   "outputs": [
    {
     "name": "stdout",
     "output_type": "stream",
     "text": [
      "Position:  1\n",
      "Name:      Do What You Wanna Do (Extended Mix)\n",
      "Artist:    The Shapeshifters\n",
      "Label:     Pleased As Punch\n",
      "\n",
      "Position:  2\n",
      "Name:      I Thought It Was You (Extended Mix)\n",
      "Artist:    David Penn\n",
      "Label:     Central Station Records\n",
      "\n",
      "Position:  3\n",
      "Name:      Can U Feel It (2023 Remaster)\n",
      "Artist:    Jay Vegas\n",
      "Label:     Hot Stuff\n",
      "\n",
      "Position:  4\n",
      "Name:      Don't Pay Me No Mind\n",
      "Artist:    Mike Dunn\n",
      "Label:     Nu Groove Records\n",
      "\n",
      "Position:  5\n",
      "Name:      Runaway Love (Michael Gray Dub)\n",
      "Artist:    Bobby D'Ambrosio\n",
      "Label:     Soulfuric\n",
      "\n",
      "Position:  6\n",
      "Name:      Frequency\n",
      "Artist:    Grant Nelson\n",
      "Label:     Swing City\n",
      "\n",
      "Position:  7\n",
      "Name:      Serious (Wayne Soul Avengerz & Odyssey Inc. Extended Remix)\n",
      "Artist:    Donna Allen\n",
      "Label:     High Fashion Music\n",
      "\n",
      "Position:  8\n",
      "Name:      Living My Life (Golden) (Extended Mix)\n",
      "Artist:    Higgo\n",
      "Label:     Helix Records\n",
      "\n",
      "Position:  9\n",
      "Name:      Do You Feel The Same? (Luke Solomon Tribute Remix)\n",
      "Artist:    Hercules & Love Affair\n",
      "Label:     Defected\n",
      "\n",
      "Position:  10\n",
      "Name:      Brutal (Extended Mix)\n",
      "Artist:    Mark Knight\n",
      "Label:     Toolroom\n",
      "\n"
     ]
    }
   ],
   "source": [
    "top10 = soup.find_all(\"div\", {\"class\": \"top-item\"})\n",
    "\n",
    "for track in top10:\n",
    "\n",
    "    track_node = track\n",
    "\n",
    "    # Get position of the track\n",
    "    position = track_node.findAll(\"div\", {\"class\": \"ttib position\"})[0].getText()\n",
    "    position = position.replace('\\n', '').strip()\n",
    "\n",
    "    # Get track infos\n",
    "    info = track_node.findAll(\"div\", {\"class\": \"ttib info\"})[0]\n",
    "    artist = info.find(\"a\", class_='com-artists').text\n",
    "    title = info.find(\"a\", class_='com-title').text\n",
    "    label = info.find(\"a\", class_='com-label').text\n",
    "\n",
    "    # Print infos\n",
    "    print('Position: ', position)\n",
    "    print('Name:     ', title)\n",
    "    print('Artist:   ', artist)\n",
    "    print('Label:    ', label)\n",
    "    print('')"
   ]
  },
  {
   "cell_type": "code",
   "execution_count": null,
   "metadata": {},
   "outputs": [],
   "source": []
  }
 ],
 "metadata": {
  "kernelspec": {
   "display_name": "Traxsource",
   "language": "python",
   "name": "python3"
  },
  "language_info": {
   "codemirror_mode": {
    "name": "ipython",
    "version": 3
   },
   "file_extension": ".py",
   "mimetype": "text/x-python",
   "name": "python",
   "nbconvert_exporter": "python",
   "pygments_lexer": "ipython3",
   "version": "3.8.17"
  },
  "orig_nbformat": 4
 },
 "nbformat": 4,
 "nbformat_minor": 2
}
